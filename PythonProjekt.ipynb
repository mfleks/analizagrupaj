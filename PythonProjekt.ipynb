{
  "nbformat": 4,
  "nbformat_minor": 0,
  "metadata": {
    "colab": {
      "provenance": [],
      "include_colab_link": true
    },
    "kernelspec": {
      "name": "python3",
      "display_name": "Python 3"
    },
    "language_info": {
      "name": "python"
    }
  },
  "cells": [
    {
      "cell_type": "markdown",
      "metadata": {
        "id": "view-in-github",
        "colab_type": "text"
      },
      "source": [
        "<a href=\"https://colab.research.google.com/github/mfleks/analizagrupaj/blob/main/PythonProjekt.ipynb\" target=\"_parent\"><img src=\"https://colab.research.google.com/assets/colab-badge.svg\" alt=\"Open In Colab\"/></a>"
      ]
    },
    {
      "cell_type": "markdown",
      "source": [
        "Wgranie niezbędnych funkcji oraz pakietów:"
      ],
      "metadata": {
        "id": "AXt2V9DtB-TA"
      }
    },
    {
      "cell_type": "code",
      "source": [
        "from sklearn.ensemble import RandomForestRegressor\n",
        "import numpy as np\n",
        "from sklearn import metrics\n",
        "import pandas as pd\n",
        "import seaborn as sns\n",
        "import matplotlib.pyplot as plt\n",
        "import os\n",
        "from sklearn import preprocessing, svm\n",
        "from sklearn.model_selection import train_test_split\n",
        "from sklearn.ensemble import RandomForestRegressor\n",
        "from sklearn.metrics import mean_squared_error as MSE\n",
        "from sklearn.ensemble import GradientBoostingRegressor\n",
        "from xgboost import XGBClassifier\n",
        "from xgboost import XGBRegressor\n",
        "import xgboost as xgb"
      ],
      "metadata": {
        "id": "Xv-gCd22YfBA"
      },
      "execution_count": null,
      "outputs": []
    },
    {
      "cell_type": "markdown",
      "source": [
        "Wykorzystany zbiór danych pochodzi ze strony Kaggle i dotyczy filmów znajdujących się w bazie danych IMDB, jednej z największych i najbardziej znanych baz danych dotyczących filmów na świecie. Zdecydowałem się na ten zestaw, ponieważ jest bardzo bogaty w różnorodne informacje, które są istotne z punktu widzenia analizy filmów. Zawiera zarówno zmienne liczbowe, które mogą być wykorzystane do budowy modeli predykcyjnych (np. liczba głosów czy popularność), jak i zmienne kategoryczne oraz tekstowe, które dostarczają dodatkowego kontekstu (np. język filmu, opis czy tytuł). Dodatkowo dane pochodzą z IMDB, co daje pewność co do ich jakości i wiarygodności. Jest to idealny zbiór, który pozwala nie tylko eksplorować różne aspekty kinematografii, ale także zrozumieć mechanizmy wpływające na popularność i ocenę filmów.\n",
        "\n",
        "Zbiór danych zawiera szereg zmiennych, które opisują cechy poszczególnych filmów. Część z nich nie zostanie wykorzystana bezpośrednio w modelu, ale może służyć do analizy kontekstowej. Są to m.in.:\n",
        "\n",
        "*   id – wartość przypisana każdemu z filmów w bazie danych,\n",
        "*   original_language – język, w którym został nakręcony film,\n",
        "*   original_title – oryginalny tytuł filmu,\n",
        "*   overview – krótki opis filmu,\n",
        "*   title – anglojęzyczny tytuł filmu.\n",
        "\n",
        "Do opracowania modelu wybrano natomiast następujące zmienne:\n",
        "\n",
        "\n",
        "*   vote_average – średnia ocena filmu na IMDB w skali od 1 do 10 (zmienna objaśniana, czyli nasz cel predykcji),\n",
        "*   vote_count – liczba głosów oddanych na dany film\n",
        "*   popularity – wartość liczbową mierzącą popularność filmu, wykorzystywaną przez IMDB,\n",
        "*   release_date – data premiery filmu, z której przekształcono zmienną określającą rok premiery filmu (year).\n",
        "\n",
        "\n",
        "Przekształcenie zmiennej release_date na year pozwala na analizowanie trendów w czasie i jest kluczowe dla zrozumienia, jak oceny filmów zmieniały się w zależności od roku premiery.\n"
      ],
      "metadata": {
        "id": "TCCDsCgb6fpt"
      }
    },
    {
      "cell_type": "markdown",
      "source": [
        "W celu przygotowania danych do analizy, na początku usunięto brakujące obserwacje, aby zapewnić kompletność i jakość zestawu danych. Następnie utworzono nową kolumnę, która zawiera jedynie rok premiery filmu. Kolejnym krokiem było usunięcie kolumn, które nie będą wykorzystywane w modelu, takich jak id, original_language, original_title, overview, release_date oraz title. Dzięki temu zestaw danych zawiera jedynie zmienne istotne do dalszej analizy i modelowania: popularity, vote_average, vote_count oraz year."
      ],
      "metadata": {
        "id": "p6sKwWqj6oaz"
      }
    },
    {
      "cell_type": "code",
      "source": [
        "os.chdir(\"/\")\n",
        "df=pd.read_csv(\"movies.csv\")\n",
        "df=df.dropna()\n",
        "df[\"year\"]=pd.DatetimeIndex(df[\"release_date\"]).year\n",
        "df=df.drop([\"id\", \"original_language\", \"original_title\", \"overview\", \"release_date\", \"title\"], axis=1)\n",
        "df"
      ],
      "metadata": {
        "colab": {
          "base_uri": "https://localhost:8080/",
          "height": 423
        },
        "id": "e-CoysfwYobJ",
        "outputId": "13d191eb-b903-4734-d972-cd77ed4856af"
      },
      "execution_count": null,
      "outputs": [
        {
          "output_type": "execute_result",
          "data": {
            "text/plain": [
              "      popularity  vote_average  vote_count  year\n",
              "0        170.540           8.7         290  2022\n",
              "1         86.518           8.7       16988  1972\n",
              "2         84.681           8.7       22748  1994\n",
              "3         44.957           8.6       10293  1974\n",
              "4         32.859           8.6         299  2021\n",
              "...          ...           ...         ...   ...\n",
              "9995       9.532           5.3         529  2003\n",
              "9996       5.835           5.3         304  2014\n",
              "9997      51.415           5.3         839  2011\n",
              "9998       6.226           5.3         242  2011\n",
              "9999       9.630           5.3         202  1988\n",
              "\n",
              "[9994 rows x 4 columns]"
            ],
            "text/html": [
              "\n",
              "  <div id=\"df-220c2706-1db1-40f3-94ac-2a6ca0edc243\" class=\"colab-df-container\">\n",
              "    <div>\n",
              "<style scoped>\n",
              "    .dataframe tbody tr th:only-of-type {\n",
              "        vertical-align: middle;\n",
              "    }\n",
              "\n",
              "    .dataframe tbody tr th {\n",
              "        vertical-align: top;\n",
              "    }\n",
              "\n",
              "    .dataframe thead th {\n",
              "        text-align: right;\n",
              "    }\n",
              "</style>\n",
              "<table border=\"1\" class=\"dataframe\">\n",
              "  <thead>\n",
              "    <tr style=\"text-align: right;\">\n",
              "      <th></th>\n",
              "      <th>popularity</th>\n",
              "      <th>vote_average</th>\n",
              "      <th>vote_count</th>\n",
              "      <th>year</th>\n",
              "    </tr>\n",
              "  </thead>\n",
              "  <tbody>\n",
              "    <tr>\n",
              "      <th>0</th>\n",
              "      <td>170.540</td>\n",
              "      <td>8.7</td>\n",
              "      <td>290</td>\n",
              "      <td>2022</td>\n",
              "    </tr>\n",
              "    <tr>\n",
              "      <th>1</th>\n",
              "      <td>86.518</td>\n",
              "      <td>8.7</td>\n",
              "      <td>16988</td>\n",
              "      <td>1972</td>\n",
              "    </tr>\n",
              "    <tr>\n",
              "      <th>2</th>\n",
              "      <td>84.681</td>\n",
              "      <td>8.7</td>\n",
              "      <td>22748</td>\n",
              "      <td>1994</td>\n",
              "    </tr>\n",
              "    <tr>\n",
              "      <th>3</th>\n",
              "      <td>44.957</td>\n",
              "      <td>8.6</td>\n",
              "      <td>10293</td>\n",
              "      <td>1974</td>\n",
              "    </tr>\n",
              "    <tr>\n",
              "      <th>4</th>\n",
              "      <td>32.859</td>\n",
              "      <td>8.6</td>\n",
              "      <td>299</td>\n",
              "      <td>2021</td>\n",
              "    </tr>\n",
              "    <tr>\n",
              "      <th>...</th>\n",
              "      <td>...</td>\n",
              "      <td>...</td>\n",
              "      <td>...</td>\n",
              "      <td>...</td>\n",
              "    </tr>\n",
              "    <tr>\n",
              "      <th>9995</th>\n",
              "      <td>9.532</td>\n",
              "      <td>5.3</td>\n",
              "      <td>529</td>\n",
              "      <td>2003</td>\n",
              "    </tr>\n",
              "    <tr>\n",
              "      <th>9996</th>\n",
              "      <td>5.835</td>\n",
              "      <td>5.3</td>\n",
              "      <td>304</td>\n",
              "      <td>2014</td>\n",
              "    </tr>\n",
              "    <tr>\n",
              "      <th>9997</th>\n",
              "      <td>51.415</td>\n",
              "      <td>5.3</td>\n",
              "      <td>839</td>\n",
              "      <td>2011</td>\n",
              "    </tr>\n",
              "    <tr>\n",
              "      <th>9998</th>\n",
              "      <td>6.226</td>\n",
              "      <td>5.3</td>\n",
              "      <td>242</td>\n",
              "      <td>2011</td>\n",
              "    </tr>\n",
              "    <tr>\n",
              "      <th>9999</th>\n",
              "      <td>9.630</td>\n",
              "      <td>5.3</td>\n",
              "      <td>202</td>\n",
              "      <td>1988</td>\n",
              "    </tr>\n",
              "  </tbody>\n",
              "</table>\n",
              "<p>9994 rows × 4 columns</p>\n",
              "</div>\n",
              "    <div class=\"colab-df-buttons\">\n",
              "\n",
              "  <div class=\"colab-df-container\">\n",
              "    <button class=\"colab-df-convert\" onclick=\"convertToInteractive('df-220c2706-1db1-40f3-94ac-2a6ca0edc243')\"\n",
              "            title=\"Convert this dataframe to an interactive table.\"\n",
              "            style=\"display:none;\">\n",
              "\n",
              "  <svg xmlns=\"http://www.w3.org/2000/svg\" height=\"24px\" viewBox=\"0 -960 960 960\">\n",
              "    <path d=\"M120-120v-720h720v720H120Zm60-500h600v-160H180v160Zm220 220h160v-160H400v160Zm0 220h160v-160H400v160ZM180-400h160v-160H180v160Zm440 0h160v-160H620v160ZM180-180h160v-160H180v160Zm440 0h160v-160H620v160Z\"/>\n",
              "  </svg>\n",
              "    </button>\n",
              "\n",
              "  <style>\n",
              "    .colab-df-container {\n",
              "      display:flex;\n",
              "      gap: 12px;\n",
              "    }\n",
              "\n",
              "    .colab-df-convert {\n",
              "      background-color: #E8F0FE;\n",
              "      border: none;\n",
              "      border-radius: 50%;\n",
              "      cursor: pointer;\n",
              "      display: none;\n",
              "      fill: #1967D2;\n",
              "      height: 32px;\n",
              "      padding: 0 0 0 0;\n",
              "      width: 32px;\n",
              "    }\n",
              "\n",
              "    .colab-df-convert:hover {\n",
              "      background-color: #E2EBFA;\n",
              "      box-shadow: 0px 1px 2px rgba(60, 64, 67, 0.3), 0px 1px 3px 1px rgba(60, 64, 67, 0.15);\n",
              "      fill: #174EA6;\n",
              "    }\n",
              "\n",
              "    .colab-df-buttons div {\n",
              "      margin-bottom: 4px;\n",
              "    }\n",
              "\n",
              "    [theme=dark] .colab-df-convert {\n",
              "      background-color: #3B4455;\n",
              "      fill: #D2E3FC;\n",
              "    }\n",
              "\n",
              "    [theme=dark] .colab-df-convert:hover {\n",
              "      background-color: #434B5C;\n",
              "      box-shadow: 0px 1px 3px 1px rgba(0, 0, 0, 0.15);\n",
              "      filter: drop-shadow(0px 1px 2px rgba(0, 0, 0, 0.3));\n",
              "      fill: #FFFFFF;\n",
              "    }\n",
              "  </style>\n",
              "\n",
              "    <script>\n",
              "      const buttonEl =\n",
              "        document.querySelector('#df-220c2706-1db1-40f3-94ac-2a6ca0edc243 button.colab-df-convert');\n",
              "      buttonEl.style.display =\n",
              "        google.colab.kernel.accessAllowed ? 'block' : 'none';\n",
              "\n",
              "      async function convertToInteractive(key) {\n",
              "        const element = document.querySelector('#df-220c2706-1db1-40f3-94ac-2a6ca0edc243');\n",
              "        const dataTable =\n",
              "          await google.colab.kernel.invokeFunction('convertToInteractive',\n",
              "                                                    [key], {});\n",
              "        if (!dataTable) return;\n",
              "\n",
              "        const docLinkHtml = 'Like what you see? Visit the ' +\n",
              "          '<a target=\"_blank\" href=https://colab.research.google.com/notebooks/data_table.ipynb>data table notebook</a>'\n",
              "          + ' to learn more about interactive tables.';\n",
              "        element.innerHTML = '';\n",
              "        dataTable['output_type'] = 'display_data';\n",
              "        await google.colab.output.renderOutput(dataTable, element);\n",
              "        const docLink = document.createElement('div');\n",
              "        docLink.innerHTML = docLinkHtml;\n",
              "        element.appendChild(docLink);\n",
              "      }\n",
              "    </script>\n",
              "  </div>\n",
              "\n",
              "\n",
              "<div id=\"df-19f0fd5a-3f01-4886-a71d-9caa34b3c974\">\n",
              "  <button class=\"colab-df-quickchart\" onclick=\"quickchart('df-19f0fd5a-3f01-4886-a71d-9caa34b3c974')\"\n",
              "            title=\"Suggest charts\"\n",
              "            style=\"display:none;\">\n",
              "\n",
              "<svg xmlns=\"http://www.w3.org/2000/svg\" height=\"24px\"viewBox=\"0 0 24 24\"\n",
              "     width=\"24px\">\n",
              "    <g>\n",
              "        <path d=\"M19 3H5c-1.1 0-2 .9-2 2v14c0 1.1.9 2 2 2h14c1.1 0 2-.9 2-2V5c0-1.1-.9-2-2-2zM9 17H7v-7h2v7zm4 0h-2V7h2v10zm4 0h-2v-4h2v4z\"/>\n",
              "    </g>\n",
              "</svg>\n",
              "  </button>\n",
              "\n",
              "<style>\n",
              "  .colab-df-quickchart {\n",
              "      --bg-color: #E8F0FE;\n",
              "      --fill-color: #1967D2;\n",
              "      --hover-bg-color: #E2EBFA;\n",
              "      --hover-fill-color: #174EA6;\n",
              "      --disabled-fill-color: #AAA;\n",
              "      --disabled-bg-color: #DDD;\n",
              "  }\n",
              "\n",
              "  [theme=dark] .colab-df-quickchart {\n",
              "      --bg-color: #3B4455;\n",
              "      --fill-color: #D2E3FC;\n",
              "      --hover-bg-color: #434B5C;\n",
              "      --hover-fill-color: #FFFFFF;\n",
              "      --disabled-bg-color: #3B4455;\n",
              "      --disabled-fill-color: #666;\n",
              "  }\n",
              "\n",
              "  .colab-df-quickchart {\n",
              "    background-color: var(--bg-color);\n",
              "    border: none;\n",
              "    border-radius: 50%;\n",
              "    cursor: pointer;\n",
              "    display: none;\n",
              "    fill: var(--fill-color);\n",
              "    height: 32px;\n",
              "    padding: 0;\n",
              "    width: 32px;\n",
              "  }\n",
              "\n",
              "  .colab-df-quickchart:hover {\n",
              "    background-color: var(--hover-bg-color);\n",
              "    box-shadow: 0 1px 2px rgba(60, 64, 67, 0.3), 0 1px 3px 1px rgba(60, 64, 67, 0.15);\n",
              "    fill: var(--button-hover-fill-color);\n",
              "  }\n",
              "\n",
              "  .colab-df-quickchart-complete:disabled,\n",
              "  .colab-df-quickchart-complete:disabled:hover {\n",
              "    background-color: var(--disabled-bg-color);\n",
              "    fill: var(--disabled-fill-color);\n",
              "    box-shadow: none;\n",
              "  }\n",
              "\n",
              "  .colab-df-spinner {\n",
              "    border: 2px solid var(--fill-color);\n",
              "    border-color: transparent;\n",
              "    border-bottom-color: var(--fill-color);\n",
              "    animation:\n",
              "      spin 1s steps(1) infinite;\n",
              "  }\n",
              "\n",
              "  @keyframes spin {\n",
              "    0% {\n",
              "      border-color: transparent;\n",
              "      border-bottom-color: var(--fill-color);\n",
              "      border-left-color: var(--fill-color);\n",
              "    }\n",
              "    20% {\n",
              "      border-color: transparent;\n",
              "      border-left-color: var(--fill-color);\n",
              "      border-top-color: var(--fill-color);\n",
              "    }\n",
              "    30% {\n",
              "      border-color: transparent;\n",
              "      border-left-color: var(--fill-color);\n",
              "      border-top-color: var(--fill-color);\n",
              "      border-right-color: var(--fill-color);\n",
              "    }\n",
              "    40% {\n",
              "      border-color: transparent;\n",
              "      border-right-color: var(--fill-color);\n",
              "      border-top-color: var(--fill-color);\n",
              "    }\n",
              "    60% {\n",
              "      border-color: transparent;\n",
              "      border-right-color: var(--fill-color);\n",
              "    }\n",
              "    80% {\n",
              "      border-color: transparent;\n",
              "      border-right-color: var(--fill-color);\n",
              "      border-bottom-color: var(--fill-color);\n",
              "    }\n",
              "    90% {\n",
              "      border-color: transparent;\n",
              "      border-bottom-color: var(--fill-color);\n",
              "    }\n",
              "  }\n",
              "</style>\n",
              "\n",
              "  <script>\n",
              "    async function quickchart(key) {\n",
              "      const quickchartButtonEl =\n",
              "        document.querySelector('#' + key + ' button');\n",
              "      quickchartButtonEl.disabled = true;  // To prevent multiple clicks.\n",
              "      quickchartButtonEl.classList.add('colab-df-spinner');\n",
              "      try {\n",
              "        const charts = await google.colab.kernel.invokeFunction(\n",
              "            'suggestCharts', [key], {});\n",
              "      } catch (error) {\n",
              "        console.error('Error during call to suggestCharts:', error);\n",
              "      }\n",
              "      quickchartButtonEl.classList.remove('colab-df-spinner');\n",
              "      quickchartButtonEl.classList.add('colab-df-quickchart-complete');\n",
              "    }\n",
              "    (() => {\n",
              "      let quickchartButtonEl =\n",
              "        document.querySelector('#df-19f0fd5a-3f01-4886-a71d-9caa34b3c974 button');\n",
              "      quickchartButtonEl.style.display =\n",
              "        google.colab.kernel.accessAllowed ? 'block' : 'none';\n",
              "    })();\n",
              "  </script>\n",
              "</div>\n",
              "\n",
              "  <div id=\"id_ecc665dd-7a84-4d4d-b15d-bb90a9d855a1\">\n",
              "    <style>\n",
              "      .colab-df-generate {\n",
              "        background-color: #E8F0FE;\n",
              "        border: none;\n",
              "        border-radius: 50%;\n",
              "        cursor: pointer;\n",
              "        display: none;\n",
              "        fill: #1967D2;\n",
              "        height: 32px;\n",
              "        padding: 0 0 0 0;\n",
              "        width: 32px;\n",
              "      }\n",
              "\n",
              "      .colab-df-generate:hover {\n",
              "        background-color: #E2EBFA;\n",
              "        box-shadow: 0px 1px 2px rgba(60, 64, 67, 0.3), 0px 1px 3px 1px rgba(60, 64, 67, 0.15);\n",
              "        fill: #174EA6;\n",
              "      }\n",
              "\n",
              "      [theme=dark] .colab-df-generate {\n",
              "        background-color: #3B4455;\n",
              "        fill: #D2E3FC;\n",
              "      }\n",
              "\n",
              "      [theme=dark] .colab-df-generate:hover {\n",
              "        background-color: #434B5C;\n",
              "        box-shadow: 0px 1px 3px 1px rgba(0, 0, 0, 0.15);\n",
              "        filter: drop-shadow(0px 1px 2px rgba(0, 0, 0, 0.3));\n",
              "        fill: #FFFFFF;\n",
              "      }\n",
              "    </style>\n",
              "    <button class=\"colab-df-generate\" onclick=\"generateWithVariable('df')\"\n",
              "            title=\"Generate code using this dataframe.\"\n",
              "            style=\"display:none;\">\n",
              "\n",
              "  <svg xmlns=\"http://www.w3.org/2000/svg\" height=\"24px\"viewBox=\"0 0 24 24\"\n",
              "       width=\"24px\">\n",
              "    <path d=\"M7,19H8.4L18.45,9,17,7.55,7,17.6ZM5,21V16.75L18.45,3.32a2,2,0,0,1,2.83,0l1.4,1.43a1.91,1.91,0,0,1,.58,1.4,1.91,1.91,0,0,1-.58,1.4L9.25,21ZM18.45,9,17,7.55Zm-12,3A5.31,5.31,0,0,0,4.9,8.1,5.31,5.31,0,0,0,1,6.5,5.31,5.31,0,0,0,4.9,4.9,5.31,5.31,0,0,0,6.5,1,5.31,5.31,0,0,0,8.1,4.9,5.31,5.31,0,0,0,12,6.5,5.46,5.46,0,0,0,6.5,12Z\"/>\n",
              "  </svg>\n",
              "    </button>\n",
              "    <script>\n",
              "      (() => {\n",
              "      const buttonEl =\n",
              "        document.querySelector('#id_ecc665dd-7a84-4d4d-b15d-bb90a9d855a1 button.colab-df-generate');\n",
              "      buttonEl.style.display =\n",
              "        google.colab.kernel.accessAllowed ? 'block' : 'none';\n",
              "\n",
              "      buttonEl.onclick = () => {\n",
              "        google.colab.notebook.generateWithVariable('df');\n",
              "      }\n",
              "      })();\n",
              "    </script>\n",
              "  </div>\n",
              "\n",
              "    </div>\n",
              "  </div>\n"
            ],
            "application/vnd.google.colaboratory.intrinsic+json": {
              "type": "dataframe",
              "variable_name": "df",
              "summary": "{\n  \"name\": \"df\",\n  \"rows\": 9994,\n  \"fields\": [\n    {\n      \"column\": \"popularity\",\n      \"properties\": {\n        \"dtype\": \"number\",\n        \"std\": 112.53727080662212,\n        \"min\": 0.6,\n        \"max\": 9137.939,\n        \"num_unique_values\": 8246,\n        \"samples\": [\n          25.175,\n          27.354,\n          31.336\n        ],\n        \"semantic_type\": \"\",\n        \"description\": \"\"\n      }\n    },\n    {\n      \"column\": \"vote_average\",\n      \"properties\": {\n        \"dtype\": \"number\",\n        \"std\": 0.7053208889454036,\n        \"min\": 5.3,\n        \"max\": 8.7,\n        \"num_unique_values\": 35,\n        \"samples\": [\n          6.1,\n          7.4,\n          6.3\n        ],\n        \"semantic_type\": \"\",\n        \"description\": \"\"\n      }\n    },\n    {\n      \"column\": \"vote_count\",\n      \"properties\": {\n        \"dtype\": \"number\",\n        \"std\": 2724,\n        \"min\": 200,\n        \"max\": 32679,\n        \"num_unique_values\": 3222,\n        \"samples\": [\n          707,\n          399,\n          4634\n        ],\n        \"semantic_type\": \"\",\n        \"description\": \"\"\n      }\n    },\n    {\n      \"column\": \"year\",\n      \"properties\": {\n        \"dtype\": \"int32\",\n        \"num_unique_values\": 110,\n        \"samples\": [\n          1949,\n          1957,\n          2021\n        ],\n        \"semantic_type\": \"\",\n        \"description\": \"\"\n      }\n    }\n  ]\n}"
            }
          },
          "metadata": {},
          "execution_count": 3
        }
      ]
    },
    {
      "cell_type": "markdown",
      "source": [
        "W celu zapewnienia powtarzalności wyników ustawiono wartość seed na stałą (1). Następnie dane zostały podzielone na zmienne objaśniające (X) oraz zmienną objaśnianą (y), gdzie X zawiera wszystkie kolumny poza vote_average, a y reprezentuje właśnie tę zmienną. Dane zostały podzielone na zestaw treningowy i testowy, przy czym 20% danych przeznaczono do testowania modelu."
      ],
      "metadata": {
        "id": "-ntQf0aK613T"
      }
    },
    {
      "cell_type": "code",
      "source": [
        "SEED=1\n",
        "X=df.drop([\"vote_average\"], axis=1)\n",
        "y=df[\"vote_average\"]\n",
        "X_train, X_test, y_train, y_test = train_test_split(X, y, test_size=0.2, random_state=42)"
      ],
      "metadata": {
        "id": "cwVN90ZX64L6"
      },
      "execution_count": null,
      "outputs": []
    },
    {
      "cell_type": "markdown",
      "source": [
        "Do predykcji wykorzystano regresor RandomForest z liczbą estymatorów ustawioną na 400. Model został dopasowany do danych treningowych, a następnie użyty do przewidywania wyników dla zestawu testowego. Obliczono także kluczowe metryki oceny modelu, takie jak MSE (średni błąd kwadratowy), RMSE (pierwiastek z MSE) oraz MRE (średni błąd względny). Wyniki pokazują, że model osiągnął zadowalającą dokładność, co potwierdzają niskie wartości błędów."
      ],
      "metadata": {
        "id": "oDXZlVX568lH"
      }
    },
    {
      "cell_type": "code",
      "source": [
        "rf=RandomForestRegressor(n_estimators=400, random_state=SEED)\n",
        "rf.fit(X_train, y_train)\n",
        "y_pred=rf.predict(X_test)\n",
        "mse=MSE(y_test, y_pred)\n",
        "rmse_test=mse**(1/2)\n",
        "mre=abs((y_pred-y_test)/y_test)\n",
        "print(\"MSE:\",mse)\n",
        "print(\"RMSE:\",rmse_test)\n",
        "print(\"MRE:\",mre.mean())"
      ],
      "metadata": {
        "colab": {
          "base_uri": "https://localhost:8080/"
        },
        "id": "ucjGmkDq7BqC",
        "outputId": "05d43a9e-8c6c-4cc0-9c12-ace32d2aa838"
      },
      "execution_count": null,
      "outputs": [
        {
          "output_type": "stream",
          "name": "stdout",
          "text": [
            "MSE: 0.4574991091483247\n",
            "RMSE: 0.6763868043866059\n",
            "MRE: 0.08238779183378374\n"
          ]
        }
      ]
    },
    {
      "cell_type": "markdown",
      "source": [
        "Aby zrozumieć znaczenie poszczególnych zmiennych w procesie predykcji, przeanalizowano ich istotność na podstawie modelu RandomForest. Wyniki zostały zaprezentowane na wykresie słupkowym, który pokazuje, w jakim stopniu każda zmienna wpływa na wynik predykcji. Jak widać, największe znaczenie w modelu miała zmienna vote_count, zaraz po niej popularity, a najmniejszy wpływ miała zmienna year."
      ],
      "metadata": {
        "id": "0lbE35i97FG5"
      }
    },
    {
      "cell_type": "code",
      "source": [
        "importances = pd.Series(data=rf.feature_importances_, index= X_train.columns)\n",
        "importances_sorted = importances.sort_values()\n",
        "importances_sorted.plot(kind='barh', color='lightgreen')\n",
        "plt.title('Features Importances')\n",
        "plt.show()"
      ],
      "metadata": {
        "colab": {
          "base_uri": "https://localhost:8080/",
          "height": 452
        },
        "id": "J3VRmGrV7Jx1",
        "outputId": "28cbffcd-1eec-4e2f-da95-7a6d3fe5d0ec"
      },
      "execution_count": null,
      "outputs": [
        {
          "output_type": "display_data",
          "data": {
            "text/plain": [
              "<Figure size 640x480 with 1 Axes>"
            ],
            "image/png": "[encoded data removed]"
          },
          "metadata": {}
        }
      ]
    },
    {
      "cell_type": "markdown",
      "source": [
        "Wykonanie podstawowego Gradient Boostingu.\n",
        "\n",
        "\n"
      ],
      "metadata": {
        "id": "GEEoItJB7Mc5"
      }
    },
    {
      "cell_type": "code",
      "source": [
        "gb = GradientBoostingRegressor(max_depth=4,  n_estimators=400, random_state=42)\n",
        "gb.fit(X_train, y_train)\n",
        "y_predgb = gb.predict(X_test)\n",
        "mse_testgb = MSE(y_test, y_predgb)\n",
        "rmse_testgb = mse_testgb**(1/2)\n",
        "mregb=abs((y_predgb-y_test)/y_test)\n",
        "print(\"MSE:\",mse_testgb)\n",
        "print(\"RMSE:\",rmse_testgb)\n",
        "print(\"MRE:\",mregb.mean())"
      ],
      "metadata": {
        "colab": {
          "base_uri": "https://localhost:8080/"
        },
        "id": "xMSwmG607RMc",
        "outputId": "0ee6dbfc-28c8-4bc8-cf2b-efc46a0e0dc1"
      },
      "execution_count": null,
      "outputs": [
        {
          "output_type": "stream",
          "name": "stdout",
          "text": [
            "MSE: 0.41878519401162156\n",
            "RMSE: 0.6471361479716781\n",
            "MRE: 0.07813980951948994\n"
          ]
        }
      ]
    },
    {
      "cell_type": "markdown",
      "source": [
        "Dokonanie predykcji oraz pomiarów metodą rozszerzonego gradient boostingu (pakiet xgboost)."
      ],
      "metadata": {
        "id": "5MQaKSbj7VSh"
      }
    },
    {
      "cell_type": "code",
      "source": [
        "X_train, X_test, y_train, y_test = train_test_split(X, y, test_size=0.2, random_state=42)\n",
        "dtrain=xgb.DMatrix(X_train, label=y_train)\n",
        "dtest=xgb.DMatrix(X_test, label=y_test)\n",
        "\n",
        "params={\"objective\":\"reg:squarederror\", \"max_depth\":2}\n",
        "\n",
        "bst=xgb.train(params=params, dtrain=dtrain, num_boost_round=100)\n",
        "\n",
        "y_predxg=bst.predict(dtest)\n",
        "\n",
        "mse_testxg = MSE(y_test, y_predxg)\n",
        "rmse_testxg = mse_testxg**(1/2)\n",
        "mrexg=abs((y_predxg-y_test)/y_test)\n",
        "\n",
        "print(\"MSE:\",mse_testxg)\n",
        "print(\"RMSE:\",rmse_testxg)\n",
        "print(\"MRE:\",mrexg.mean())"
      ],
      "metadata": {
        "colab": {
          "base_uri": "https://localhost:8080/"
        },
        "id": "-1nzBbfK7aj5",
        "outputId": "92790353-bb65-4baf-9e51-d03add3cf960"
      },
      "execution_count": null,
      "outputs": [
        {
          "output_type": "stream",
          "name": "stdout",
          "text": [
            "MSE: 0.40821638767569135\n",
            "RMSE: 0.6389181384776076\n",
            "MRE: 0.07763843705284384\n"
          ]
        }
      ]
    },
    {
      "cell_type": "markdown",
      "source": [
        "Wykres ważności parametrów dla metody rozszerzonego boostingu gradientowego."
      ],
      "metadata": {
        "id": "bHeXyOgF7d6L"
      }
    },
    {
      "cell_type": "code",
      "source": [
        "xgb.plot_importance(bst)\n",
        "plt.show()"
      ],
      "metadata": {
        "colab": {
          "base_uri": "https://localhost:8080/",
          "height": 472
        },
        "id": "EHkOx5i57gqx",
        "outputId": "87cf1f9a-e44e-4d07-ff07-852cc67699eb"
      },
      "execution_count": null,
      "outputs": [
        {
          "output_type": "display_data",
          "data": {
            "text/plain": [
              "<Figure size 640x480 with 1 Axes>"
            ],
            "image/png": "[encoded data removed]"
          },
          "metadata": {}
        }
      ]
    },
    {
      "cell_type": "markdown",
      "source": [
        "Średnia wartość zmiennej objaśnianej vote_average:"
      ],
      "metadata": {
        "id": "SNj9zgYqWfQW"
      }
    },
    {
      "cell_type": "code",
      "source": [
        "va=df[\"vote_average\"].mean()\n",
        "print(va)"
      ],
      "metadata": {
        "colab": {
          "base_uri": "https://localhost:8080/"
        },
        "id": "nNtxkyEqWf_P",
        "outputId": "6ae116f8-cc3e-4524-a54c-76af5d2520b0"
      },
      "execution_count": null,
      "outputs": [
        {
          "output_type": "stream",
          "name": "stdout",
          "text": [
            "6.682059235541325\n"
          ]
        }
      ]
    },
    {
      "cell_type": "markdown",
      "source": [
        "Wynik wynosi około 6.68, co oznacza, że przeciętna ocena filmów w zbiorze danych oscyluje w okolicach 6.7 w skali od 1 do 10."
      ],
      "metadata": {
        "id": "f7qkR2gzWpDQ"
      }
    },
    {
      "cell_type": "markdown",
      "source": [
        "Podsumowanie\n",
        "\n",
        "Porównanie wartości MSE, MRSE oraz MAE dla zastosowanych metod przy tym samym współczynniku podziału danych na treningowe oraz testowe, a także dla tej samej wartości random_state:\n",
        "\n",
        "Metoda Random Forest:\n",
        "\n",
        "MSE: 0.4574991091483247\n",
        "\n",
        "RMSE: 0.6763868043866059\n",
        "\n",
        "MRE: 0.08238779183378374\n",
        "\n",
        "Podstawowy Gradient Boosting:\n",
        "\n",
        "MSE: 0.41878519401162156\n",
        "\n",
        "RMSE: 0.6471361479716781\n",
        "\n",
        "MRE: 0.07813980951948994\n",
        "\n",
        "Rozszerzony Gradient Boosting:\n",
        "\n",
        "MSE: 0.40821638767569135\n",
        "\n",
        "RMSE: 0.6389181384776076\n",
        "\n",
        "MRE: 0.07763843705284384\n",
        "\n",
        "Interpretacja wyników błędów:\n",
        "\n",
        "Mean Squared Error (MSE) – Średni błąd kwadratowy: Rozszerzony Gradient Boosting osiągnął najniższą wartość (0.4082), co oznacza, że najlepiej dopasował się do danych w porównaniu do pozostałych modeli. Random Forest charakteryzuje się najwyższym MSE (0.4575), co wskazuje na mniejszą precyzję w przewidywaniu w stosunku do Gradient Boostingu i Rozszerzonego Gradient Boostingu.\n",
        "\n",
        "Root Mean Squared Error (RMSE) – Pierwiastek z MSE:\n",
        "RMSE jest interpretowany jako średnie odchylenie przewidywań od rzeczywistych wartości. Rozszerzony Gradient Boosting osiągnął najlepszy wynik (0.6389), co oznacza, że przeciętne odchylenie od prawdziwej oceny filmu jest najniższe w tym przypadku. Random Forest odnotował najwyższą wartość RMSE (0.6764), co wskazuje na większy margines błędu.\n",
        "\n",
        "Mean Relative Error (MRE) – Średni względny błąd:\n",
        "Rozszerzony Gradient Boosting (0.0776) i Gradient Boosting (0.0781) uzyskały bardzo podobne wyniki, co oznacza, że obie metody mają bardzo niskie względne błędy w stosunku do średniej wartości zmiennej objaśnianej. Random Forest (0.0824) osiągnął wyższy wynik, co oznacza większy względny błąd w porównaniu z pozostałymi modelami.\n",
        "\n",
        "Błędy te dotyczą szacowanej wartości zmiennej objaśnianej vote_average, której średnia wartość wynosi około 6.68. Otrzymane błędy można zatem interpretować jako bardzo niskie w stosunku do tej średniej: Dla Rozszerzonego Gradient Boostingu, przeciętne odchylenie RMSE (0.6389) stanowi mniej niż 10% średniej wartości. Podobnie dla Gradient Boosting (RMSE 0.6471) i Random Forest (RMSE 0.6764), błędy również utrzymują się w zakresie poniżej 10% średniej oceny, co wskazuje na bardzo dobrą jakość predykcji dla wszystkich metod."
      ],
      "metadata": {
        "id": "U4DKxCoV7jbQ"
      }
    }
  ]
}